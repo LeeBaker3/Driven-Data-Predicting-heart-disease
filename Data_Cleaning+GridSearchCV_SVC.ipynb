{
  "nbformat": 4,
  "nbformat_minor": 0,
  "metadata": {
    "colab": {
      "name": "Data Cleaning + GridSearchCV(SVC()).ipynb",
      "version": "0.3.2",
      "provenance": [],
      "collapsed_sections": []
    },
    "kernelspec": {
      "name": "python3",
      "display_name": "Python 3"
    }
  },
  "cells": [
    {
      "metadata": {
        "id": "B2KtHKXBf465",
        "colab_type": "text"
      },
      "cell_type": "markdown",
      "source": [
        "#Warm Up: Machine Learning with a Heart\n",
        "##A competition hosted on DrivenData\n",
        "###Aim: Given a set of features describing a patient, estimate the likelihood of them having heart disease."
      ]
    },
    {
      "metadata": {
        "id": "MY3YNx4Yiuvw",
        "colab_type": "text"
      },
      "cell_type": "markdown",
      "source": [
        "####**Uploading data"
      ]
    },
    {
      "metadata": {
        "id": "vaIy7nrji9ir",
        "colab_type": "code",
        "colab": {}
      },
      "cell_type": "code",
      "source": [
        "from google.colab import files\n",
        "\n",
        "uploaded = files.upload()\n",
        "\n",
        "for fn in uploaded.keys():\n",
        "  print('User uploaded file \"{name}\" with length {length} bytes'.format(\n",
        "      name=fn, length=len(uploaded[fn])))"
      ],
      "execution_count": 0,
      "outputs": []
    },
    {
      "metadata": {
        "id": "TET1RXqAfr-z",
        "colab_type": "code",
        "colab": {}
      },
      "cell_type": "code",
      "source": [
        "import numpy as np\n",
        "import pandas as pd\n",
        "from xgboost import XGBClassifier\n",
        "from sklearn.model_selection import GridSearchCV\n",
        "from sklearn.svm import SVC\n",
        "from sklearn.model_selection import StratifiedKFold\n",
        "from sklearn.metrics import accuracy_score\n",
        "import warnings\n",
        "from sklearn.exceptions import DataConversionWarning"
      ],
      "execution_count": 0,
      "outputs": []
    },
    {
      "metadata": {
        "id": "hUyk4FMDfuP1",
        "colab_type": "text"
      },
      "cell_type": "markdown",
      "source": [
        "###1. Creating a combined feature dataframe for preprocessing."
      ]
    },
    {
      "metadata": {
        "id": "r7-1l-Gzf08d",
        "colab_type": "code",
        "colab": {
          "base_uri": "https://localhost:8080/",
          "height": 35
        },
        "outputId": "ee7280a4-fa38-41dd-918c-6c53da5b7968"
      },
      "cell_type": "code",
      "source": [
        "train=pd.read_csv('train.csv')\n",
        "test=pd.read_csv('test.csv')\n",
        "y=pd.read_csv('train_labels.csv')\n",
        "\n",
        "#joining features\n",
        "allfeat = pd.concat([train, test],axis=0)\n",
        "print(train.shape,test.shape,allfeat.shape)"
      ],
      "execution_count": 19,
      "outputs": [
        {
          "output_type": "stream",
          "text": [
            "(180, 14) (90, 14) (270, 14)\n"
          ],
          "name": "stdout"
        }
      ]
    },
    {
      "metadata": {
        "id": "yg9YIqB2gXx0",
        "colab_type": "text"
      },
      "cell_type": "markdown",
      "source": [
        "###2. Splitting numerical data into categorical ranges for ease of classification"
      ]
    },
    {
      "metadata": {
        "id": "ZLdCYGPAgWaq",
        "colab_type": "code",
        "colab": {}
      },
      "cell_type": "code",
      "source": [
        "allfeat['resting_blood_pressure'] = pd.qcut(allfeat['resting_blood_pressure'], 10)\n",
        "allfeat['serum_cholesterol_mg_per_dl'] = pd.qcut(allfeat['serum_cholesterol_mg_per_dl'], 10)\n",
        "allfeat['max_heart_rate_achieved'] = pd.qcut(allfeat['max_heart_rate_achieved'], 5)\n",
        "allfeat['age'] = pd.qcut(allfeat['age'],5)"
      ],
      "execution_count": 0,
      "outputs": []
    },
    {
      "metadata": {
        "id": "RPc4ikLfgjab",
        "colab_type": "text"
      },
      "cell_type": "markdown",
      "source": [
        "###3. One-hot encoding all categorical variables in data"
      ]
    },
    {
      "metadata": {
        "id": "bU3g9afTgpDj",
        "colab_type": "code",
        "colab": {}
      },
      "cell_type": "code",
      "source": [
        "allfeat=pd.concat([allfeat,pd.get_dummies(allfeat['thal'], prefix='thal')],axis=1) \n",
        "allfeat=allfeat.drop(columns='thal') \n",
        "\n",
        "allfeat=pd.concat([allfeat,pd.get_dummies(allfeat['resting_ekg_results'],prefix='ekg')],axis=1) \n",
        "allfeat=allfeat.drop(columns='resting_ekg_results') \n",
        "\n",
        "allfeat=pd.concat([allfeat,pd.get_dummies(allfeat['chest_pain_type'],prefix='pain_type')],axis=1) \n",
        "allfeat=allfeat.drop(columns='chest_pain_type') \n",
        "\n",
        "allfeat=pd.concat([allfeat,pd.get_dummies(allfeat['max_heart_rate_achieved'],prefix='maxheartrate')],axis=1) \n",
        "allfeat=allfeat.drop(columns='max_heart_rate_achieved') \n",
        "\n",
        "allfeat=pd.concat([allfeat,pd.get_dummies(allfeat['age'],prefix='age')],axis=1) \n",
        "allfeat=allfeat.drop(columns='age') \n",
        "\n",
        "allfeat=pd.concat([allfeat,pd.get_dummies(allfeat['resting_blood_pressure'],prefix='restbp')],axis=1) \n",
        "allfeat=allfeat.drop(columns='resting_blood_pressure') \n",
        "\n",
        "allfeat=pd.concat([allfeat,pd.get_dummies(allfeat['serum_cholesterol_mg_per_dl'],prefix='serum_cholest')],axis=1) \n",
        "allfeat=allfeat.drop(columns='serum_cholesterol_mg_per_dl') \n",
        "\n",
        "allfeat=pd.concat([allfeat,pd.get_dummies(allfeat['sex'],prefix='sex')],axis=1) \n",
        "allfeat=allfeat.drop(columns='sex') \n"
      ],
      "execution_count": 0,
      "outputs": []
    },
    {
      "metadata": {
        "id": "C_2teRXcgySp",
        "colab_type": "text"
      },
      "cell_type": "markdown",
      "source": [
        "####**Renaming columns (columns cannot have [ ] or ',' within header )"
      ]
    },
    {
      "metadata": {
        "id": "mbzxrBVZhEoo",
        "colab_type": "code",
        "colab": {}
      },
      "cell_type": "code",
      "source": [
        "allfeat.columns=['patient_id', 'slope_of_peak_exercise_st_segment', 'num_major_vessels', 'fasting_blood_sugar_gt_120_mg_per_dl', 'oldpeak_eq_st_depression', 'exercise_induced_angina', 'thal_fixed_defect', 'thal_normal', 'thal_reversible_defect', 'ekg_0', 'ekg_1', 'ekg_2','pain_type_1', 'pain_type_2', 'pain_type_3', 'pain_type_4', 'maxheartrate_70.999_128.8', 'maxheartrate_128.8_147.0', 'maxheartrate_147.0_159.0','maxheartrate_159.0_170.0', 'maxheartrate_170.0_202.0', 'age_28.999_45.0', 'age_45.0_52.0', 'age_52.0_58.0', 'age_58.0_62.2', 'age_62.2_77.0','restbp1','restbp2','restbp3','restbp4','restbp5','restbp6','restbp7','restbp8','restbp9','restbp10','serum_cholest_1','serum_cholest_2','serum_cholest_3','serum_cholest_4','serum_cholest_5','serum_cholest_6','serum_cholest_7','serum_cholest_8','serum_cholest_9','serum_cholest_10','fem','male']"
      ],
      "execution_count": 0,
      "outputs": []
    },
    {
      "metadata": {
        "id": "3XREhZhDhH-x",
        "colab_type": "text"
      },
      "cell_type": "markdown",
      "source": [
        "###4. Splitting our combined dataframe into training and test data according to original data indices"
      ]
    },
    {
      "metadata": {
        "id": "35NoE7l0hTLQ",
        "colab_type": "code",
        "colab": {
          "base_uri": "https://localhost:8080/",
          "height": 1007
        },
        "outputId": "d4c52afa-5a0a-4f35-9289-0e6bdc6219c9"
      },
      "cell_type": "code",
      "source": [
        "train=allfeat[:][0:180]\n",
        "test=allfeat[:][180:270]\n",
        "\n",
        "X_train=train.drop(columns='patient_id')\n",
        "X_test=test.drop(columns='patient_id')\n",
        "y=y.drop(columns='patient_id')\n",
        "\n",
        "print(train.shape,test.shape,allfeat.info())\n",
        "print('Training data...',train.shape)"
      ],
      "execution_count": 23,
      "outputs": [
        {
          "output_type": "stream",
          "text": [
            "<class 'pandas.core.frame.DataFrame'>\n",
            "Int64Index: 270 entries, 0 to 89\n",
            "Data columns (total 48 columns):\n",
            "patient_id                              270 non-null object\n",
            "slope_of_peak_exercise_st_segment       270 non-null int64\n",
            "num_major_vessels                       270 non-null int64\n",
            "fasting_blood_sugar_gt_120_mg_per_dl    270 non-null int64\n",
            "oldpeak_eq_st_depression                270 non-null float64\n",
            "exercise_induced_angina                 270 non-null int64\n",
            "thal_fixed_defect                       270 non-null uint8\n",
            "thal_normal                             270 non-null uint8\n",
            "thal_reversible_defect                  270 non-null uint8\n",
            "ekg_0                                   270 non-null uint8\n",
            "ekg_1                                   270 non-null uint8\n",
            "ekg_2                                   270 non-null uint8\n",
            "pain_type_1                             270 non-null uint8\n",
            "pain_type_2                             270 non-null uint8\n",
            "pain_type_3                             270 non-null uint8\n",
            "pain_type_4                             270 non-null uint8\n",
            "maxheartrate_70.999_128.8               270 non-null uint8\n",
            "maxheartrate_128.8_147.0                270 non-null uint8\n",
            "maxheartrate_147.0_159.0                270 non-null uint8\n",
            "maxheartrate_159.0_170.0                270 non-null uint8\n",
            "maxheartrate_170.0_202.0                270 non-null uint8\n",
            "age_28.999_45.0                         270 non-null uint8\n",
            "age_45.0_52.0                           270 non-null uint8\n",
            "age_52.0_58.0                           270 non-null uint8\n",
            "age_58.0_62.2                           270 non-null uint8\n",
            "age_62.2_77.0                           270 non-null uint8\n",
            "restbp1                                 270 non-null uint8\n",
            "restbp2                                 270 non-null uint8\n",
            "restbp3                                 270 non-null uint8\n",
            "restbp4                                 270 non-null uint8\n",
            "restbp5                                 270 non-null uint8\n",
            "restbp6                                 270 non-null uint8\n",
            "restbp7                                 270 non-null uint8\n",
            "restbp8                                 270 non-null uint8\n",
            "restbp9                                 270 non-null uint8\n",
            "restbp10                                270 non-null uint8\n",
            "serum_cholest_1                         270 non-null uint8\n",
            "serum_cholest_2                         270 non-null uint8\n",
            "serum_cholest_3                         270 non-null uint8\n",
            "serum_cholest_4                         270 non-null uint8\n",
            "serum_cholest_5                         270 non-null uint8\n",
            "serum_cholest_6                         270 non-null uint8\n",
            "serum_cholest_7                         270 non-null uint8\n",
            "serum_cholest_8                         270 non-null uint8\n",
            "serum_cholest_9                         270 non-null uint8\n",
            "serum_cholest_10                        270 non-null uint8\n",
            "fem                                     270 non-null uint8\n",
            "male                                    270 non-null uint8\n",
            "dtypes: float64(1), int64(4), object(1), uint8(42)\n",
            "memory usage: 25.8+ KB\n",
            "(180, 48) (90, 48) None\n",
            "Training data... (180, 48)\n"
          ],
          "name": "stdout"
        }
      ]
    },
    {
      "metadata": {
        "id": "yZ76CtnFhbXX",
        "colab_type": "text"
      },
      "cell_type": "markdown",
      "source": [
        "###5. Apply classifier"
      ]
    },
    {
      "metadata": {
        "id": "UAr1tG5RhfqZ",
        "colab_type": "text"
      },
      "cell_type": "markdown",
      "source": [
        "####applying GridSearchCV() using an SVC(kernel='rbf')"
      ]
    },
    {
      "metadata": {
        "id": "NNC4WxffhaIZ",
        "colab_type": "code",
        "colab": {}
      },
      "cell_type": "code",
      "source": [
        "param_grid = [{'C': np.arange(0.1, 10.1, 0.1)}] #set of trial values for min_child_weight\n",
        "clf = GridSearchCV(SVC(probability=True), param_grid, cv=10, scoring= 'neg_log_loss',iid=True)\n",
        "\n",
        "warnings.filterwarnings(action='ignore', category=DataConversionWarning)\n",
        "\n",
        "clf.fit(X_train,y)\n",
        "\n",
        "probs=clf.predict_proba(X_test)"
      ],
      "execution_count": 0,
      "outputs": []
    },
    {
      "metadata": {
        "id": "ZExRSOzbhqn7",
        "colab_type": "text"
      },
      "cell_type": "markdown",
      "source": [
        "####storing probability of heart disease being present"
      ]
    },
    {
      "metadata": {
        "id": "HSyORfyGhx6_",
        "colab_type": "code",
        "colab": {
          "base_uri": "https://localhost:8080/",
          "height": 35
        },
        "outputId": "62452d44-cc21-4a2d-a518-c100e98947d0"
      },
      "cell_type": "code",
      "source": [
        "present_proba=np.delete(probs,0,axis=1)\n",
        "present_proba=present_proba.flatten()\n",
        "print(present_proba.shape)"
      ],
      "execution_count": 25,
      "outputs": [
        {
          "output_type": "stream",
          "text": [
            "(90,)\n"
          ],
          "name": "stdout"
        }
      ]
    },
    {
      "metadata": {
        "id": "_28lSkNvh10-",
        "colab_type": "text"
      },
      "cell_type": "markdown",
      "source": [
        "###6. Store predictions in dataframe with appropriate column names and order, and save as .csv file"
      ]
    },
    {
      "metadata": {
        "id": "b8nxh614iCJ8",
        "colab_type": "code",
        "colab": {}
      },
      "cell_type": "code",
      "source": [
        "op=pd.DataFrame(data={'patient_id':test['patient_id'],'heart_disease_present':present_proba})\n",
        "swaptitle=['patient_id','heart_disease_present']\n",
        "op=op.reindex(columns=swaptitle)\n",
        "op.to_csv('Gridsearch_SVC_submission.csv',index=False)"
      ],
      "execution_count": 0,
      "outputs": []
    }
  ]
}