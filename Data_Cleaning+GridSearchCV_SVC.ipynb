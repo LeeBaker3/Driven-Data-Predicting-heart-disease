{
  "nbformat": 4,
  "nbformat_minor": 0,
  "metadata": {
    "colab": {
      "name": "Data Cleaning + GridSearchCV(SVC()).ipynb",
      "version": "0.3.2",
      "provenance": []
    },
    "kernelspec": {
      "name": "python3",
      "display_name": "Python 3"
    }
  },
  "cells": [
    {
      "metadata": {
        "id": "B2KtHKXBf465",
        "colab_type": "text"
      },
      "cell_type": "markdown",
      "source": [
        "#Warm Up: Machine Learning with a Heart\n",
        "##A competition hosted on DrivenData\n",
        "###Aim: Given a set of features describing a patient, estimate the likelihood of them having heart disease."
      ]
    },
    {
      "metadata": {
        "id": "TET1RXqAfr-z",
        "colab_type": "code",
        "colab": {}
      },
      "cell_type": "code",
      "source": [
        "import numpy as np\n",
        "import pandas as pd\n",
        "from xgboost import XGBClassifier\n",
        "from sklearn.model_selection import GridSearchCV\n",
        "from sklearn.svm import SVC\n",
        "from sklearn.model_selection import StratifiedKFold\n",
        "from sklearn.metrics import accuracy_score"
      ],
      "execution_count": 0,
      "outputs": []
    },
    {
      "metadata": {
        "id": "hUyk4FMDfuP1",
        "colab_type": "text"
      },
      "cell_type": "markdown",
      "source": [
        "###1. Creating a combined feature dataframe for preprocessing."
      ]
    },
    {
      "metadata": {
        "id": "r7-1l-Gzf08d",
        "colab_type": "code",
        "colab": {}
      },
      "cell_type": "code",
      "source": [
        "train=pd.read_csv('train.csv')\n",
        "test=pd.read_csv('test.csv')\n",
        "y=pd.read_csv('train_labels.csv')\n",
        "\n",
        "#joining features\n",
        "allfeat = pd.concat([train, test],axis=0)\n",
        "print(train.shape,test.shape,allfeat.shape)"
      ],
      "execution_count": 0,
      "outputs": []
    },
    {
      "metadata": {
        "id": "yg9YIqB2gXx0",
        "colab_type": "text"
      },
      "cell_type": "markdown",
      "source": [
        "###2. Splitting numerical data into categorical ranges for ease of classification"
      ]
    },
    {
      "metadata": {
        "id": "ZLdCYGPAgWaq",
        "colab_type": "code",
        "colab": {}
      },
      "cell_type": "code",
      "source": [
        "allfeat['resting_blood_pressure'] = pd.qcut(allfeat['resting_blood_pressure'], 10)\n",
        "allfeat['serum_cholesterol_mg_per_dl'] = pd.qcut(allfeat['serum_cholesterol_mg_per_dl'], 10)\n",
        "allfeat['max_heart_rate_achieved'] = pd.qcut(allfeat['max_heart_rate_achieved'], 5)\n",
        "allfeat['age'] = pd.qcut(allfeat['age'],5)"
      ],
      "execution_count": 0,
      "outputs": []
    },
    {
      "metadata": {
        "id": "RPc4ikLfgjab",
        "colab_type": "text"
      },
      "cell_type": "markdown",
      "source": [
        "###3. One-hot encoding all categorical variables in data"
      ]
    },
    {
      "metadata": {
        "id": "bU3g9afTgpDj",
        "colab_type": "code",
        "colab": {}
      },
      "cell_type": "code",
      "source": [
        "allfeat=pd.concat([allfeat,pd.get_dummies(allfeat['thal'], prefix='thal')],axis=1) \n",
        "allfeat=allfeat.drop(columns='thal') \n",
        "\n",
        "allfeat=pd.concat([allfeat,pd.get_dummies(allfeat['resting_ekg_results'],prefix='ekg')],axis=1) \n",
        "allfeat=allfeat.drop(columns='resting_ekg_results') \n",
        "\n",
        "allfeat=pd.concat([allfeat,pd.get_dummies(allfeat['chest_pain_type'],prefix='pain_type')],axis=1) \n",
        "allfeat=allfeat.drop(columns='chest_pain_type') \n",
        "\n",
        "allfeat=pd.concat([allfeat,pd.get_dummies(allfeat['max_heart_rate_achieved'],prefix='maxheartrate')],axis=1) \n",
        "allfeat=allfeat.drop(columns='max_heart_rate_achieved') \n",
        "\n",
        "allfeat=pd.concat([allfeat,pd.get_dummies(allfeat['age'],prefix='age')],axis=1) \n",
        "allfeat=allfeat.drop(columns='age') \n",
        "\n",
        "allfeat=pd.concat([allfeat,pd.get_dummies(allfeat['resting_blood_pressure'],prefix='restbp')],axis=1) \n",
        "allfeat=allfeat.drop(columns='resting_blood_pressure') \n",
        "\n",
        "allfeat=pd.concat([allfeat,pd.get_dummies(allfeat['serum_cholesterol_mg_per_dl'],prefix='serum_cholest')],axis=1) \n",
        "allfeat=allfeat.drop(columns='serum_cholesterol_mg_per_dl') \n",
        "\n",
        "allfeat=pd.concat([allfeat,pd.get_dummies(allfeat['sex'],prefix='sex')],axis=1) \n",
        "allfeat=allfeat.drop(columns='sex') \n"
      ],
      "execution_count": 0,
      "outputs": []
    },
    {
      "metadata": {
        "id": "C_2teRXcgySp",
        "colab_type": "text"
      },
      "cell_type": "markdown",
      "source": [
        "####**Renaming columns (columns cannot have [ ] or ',' within header )"
      ]
    },
    {
      "metadata": {
        "id": "mbzxrBVZhEoo",
        "colab_type": "code",
        "colab": {}
      },
      "cell_type": "code",
      "source": [
        "allfeat.columns=['patient_id', 'slope_of_peak_exercise_st_segment', 'num_major_vessels', 'fasting_blood_sugar_gt_120_mg_per_dl', 'oldpeak_eq_st_depression', 'exercise_induced_angina', 'thal_fixed_defect', 'thal_normal', 'thal_reversible_defect', 'ekg_0', 'ekg_1', 'ekg_2','pain_type_1', 'pain_type_2', 'pain_type_3', 'pain_type_4', 'maxheartrate_70.999_128.8', 'maxheartrate_128.8_147.0', 'maxheartrate_147.0_159.0','maxheartrate_159.0_170.0', 'maxheartrate_170.0_202.0', 'age_28.999_45.0', 'age_45.0_52.0', 'age_52.0_58.0', 'age_58.0_62.2', 'age_62.2_77.0','restbp1','restbp2','restbp3','restbp4','restbp5','restbp6','restbp7','restbp8','restbp9','restbp10','serum_cholest_1','serum_cholest_2','serum_cholest_3','serum_cholest_4','serum_cholest_5','serum_cholest_6','serum_cholest_7','serum_cholest_8','serum_cholest_9','serum_cholest_10','fem','male']"
      ],
      "execution_count": 0,
      "outputs": []
    },
    {
      "metadata": {
        "id": "3XREhZhDhH-x",
        "colab_type": "text"
      },
      "cell_type": "markdown",
      "source": [
        "###4. Splitting our combined dataframe into training and test data according to original data indices"
      ]
    },
    {
      "metadata": {
        "id": "35NoE7l0hTLQ",
        "colab_type": "code",
        "colab": {}
      },
      "cell_type": "code",
      "source": [
        "train=allfeat[:][0:180]\n",
        "test=allfeat[:][180:270]\n",
        "\n",
        "X_train=train.drop(columns='patient_id')\n",
        "X_test=test.drop(columns='patient_id')\n",
        "y=y.drop(columns='patient_id')\n",
        "\n",
        "print(train.shape,test.shape,allfeat.info())\n",
        "print('Training data...',train.shape)"
      ],
      "execution_count": 0,
      "outputs": []
    },
    {
      "metadata": {
        "id": "yZ76CtnFhbXX",
        "colab_type": "text"
      },
      "cell_type": "markdown",
      "source": [
        "###5. Apply classifier"
      ]
    },
    {
      "metadata": {
        "id": "UAr1tG5RhfqZ",
        "colab_type": "text"
      },
      "cell_type": "markdown",
      "source": [
        "####applying GridSearchCV() using an SVC(kernel='rbf')"
      ]
    },
    {
      "metadata": {
        "id": "NNC4WxffhaIZ",
        "colab_type": "code",
        "colab": {}
      },
      "cell_type": "code",
      "source": [
        "param_grid = [{'C': np.arange(0.1, 10.1, 0.1)}] #set of trial values for min_child_weight\n",
        "clf = GridSearchCV(SVC(probability=True), param_grid, cv=10, scoring= 'neg_log_loss',iid=True)\n",
        "clf.fit(X_train,y)\n",
        "\n",
        "probs=clf.predict_proba(X_test)"
      ],
      "execution_count": 0,
      "outputs": []
    },
    {
      "metadata": {
        "id": "ZExRSOzbhqn7",
        "colab_type": "text"
      },
      "cell_type": "markdown",
      "source": [
        "####storing probability of heart disease being present"
      ]
    },
    {
      "metadata": {
        "id": "HSyORfyGhx6_",
        "colab_type": "code",
        "colab": {}
      },
      "cell_type": "code",
      "source": [
        "present_proba=np.delete(probs,0,axis=1)\n",
        "present_proba=present_proba.flatten()\n",
        "print(present_proba.shape)"
      ],
      "execution_count": 0,
      "outputs": []
    },
    {
      "metadata": {
        "id": "_28lSkNvh10-",
        "colab_type": "text"
      },
      "cell_type": "markdown",
      "source": [
        "###6. Store predictions in dataframe with appropriate column names and order, and save as .csv file"
      ]
    },
    {
      "metadata": {
        "id": "b8nxh614iCJ8",
        "colab_type": "code",
        "colab": {}
      },
      "cell_type": "code",
      "source": [
        "op=pd.DataFrame(data={'patient_id':test['patient_id'],'heart_disease_present':present_proba})\n",
        "swaptitle=['patient_id','heart_disease_present']\n",
        "op=op.reindex(columns=swaptitle)\n",
        "op.to_csv('Gridsearch_SVC_submission.csv',index=False)"
      ],
      "execution_count": 0,
      "outputs": []
    }
  ]
}